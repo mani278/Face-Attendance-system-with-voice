{
 "cells": [
  {
   "cell_type": "markdown",
   "id": "87e81658",
   "metadata": {},
   "source": [
    "# FACE ATTENDANCE SYSTEM WITH VOICE"
   ]
  },
  {
   "cell_type": "markdown",
   "id": "b6d0e9e2",
   "metadata": {},
   "source": [
    "### Importing the required packages"
   ]
  },
  {
   "cell_type": "code",
   "execution_count": 1,
   "id": "6f0c75a7",
   "metadata": {},
   "outputs": [],
   "source": [
    "import cv2\n",
    "import numpy as np\n",
    "import face_recognition\n",
    "import os\n",
    "import pyttsx3\n",
    "import csv\n",
    "import time"
   ]
  },
  {
   "cell_type": "markdown",
   "id": "91955fb3",
   "metadata": {},
   "source": [
    "#### If you are using python 3.x. If there is no face_recognition package, first install dib which is available as a zip file in main folder.  Extract the dlib zip file and install the required one from the files. "
   ]
  },
  {
   "cell_type": "markdown",
   "id": "087ddeeb",
   "metadata": {},
   "source": [
    "#### Now install face_recognition package by a code \"!pip install face_recognition\""
   ]
  },
  {
   "cell_type": "raw",
   "id": "b505c596",
   "metadata": {},
   "source": [
    "#Convert the cell from RAW to code and run\n",
    "!pip install face_recognition"
   ]
  },
  {
   "cell_type": "markdown",
   "id": "4869b632",
   "metadata": {},
   "source": [
    "#### Now install pyttsx3 by \"!pip install pyttsx3\""
   ]
  },
  {
   "cell_type": "raw",
   "id": "f234f574",
   "metadata": {},
   "source": [
    "#Convert the cell from RAW to code and run\n",
    "!pip install pyttsx3"
   ]
  },
  {
   "cell_type": "markdown",
   "id": "c3917fed",
   "metadata": {},
   "source": [
    "#### Now run the below code"
   ]
  },
  {
   "cell_type": "code",
   "execution_count": 2,
   "id": "97a03e4d",
   "metadata": {},
   "outputs": [],
   "source": [
    "engine = pyttsx3.init()"
   ]
  },
  {
   "cell_type": "code",
   "execution_count": 3,
   "id": "cf2439d9",
   "metadata": {},
   "outputs": [
    {
     "data": {
      "text/plain": [
       "16"
      ]
     },
     "execution_count": 3,
     "metadata": {},
     "output_type": "execute_result"
    }
   ],
   "source": [
    "day = time.strftime(\"%d-%b-%Y\")\n",
    "f = open(day+'.csv','w+',newline='')\n",
    "write = csv.writer(f)\n",
    "write.writerow(['S.No','NAME','TIME'])"
   ]
  },
  {
   "cell_type": "code",
   "execution_count": 4,
   "id": "070c5ef3",
   "metadata": {},
   "outputs": [],
   "source": [
    "attendance = []\n",
    "idd = 1"
   ]
  },
  {
   "cell_type": "code",
   "execution_count": 5,
   "id": "7d9a9291",
   "metadata": {},
   "outputs": [],
   "source": [
    "def resize(img, size) :\n",
    "    width = int(img.shape[1]*size)\n",
    "    height = int(img.shape[0] * size)\n",
    "    dimension = (width, height)\n",
    "    return cv2.resize(img, dimension, interpolation= cv2.INTER_AREA)"
   ]
  },
  {
   "cell_type": "code",
   "execution_count": 6,
   "id": "beca322b",
   "metadata": {},
   "outputs": [],
   "source": [
    "path = 'data'\n",
    "stdImg = []\n",
    "stdName = []"
   ]
  },
  {
   "cell_type": "code",
   "execution_count": 7,
   "id": "c46326ce",
   "metadata": {},
   "outputs": [],
   "source": [
    "myList = os.listdir(path)\n",
    "for cl in myList :\n",
    "    curimg = cv2.imread(f'{path}/{cl}')\n",
    "    stdImg.append(curimg)\n",
    "    stdName.append(os.path.splitext(cl)[0])"
   ]
  },
  {
   "cell_type": "code",
   "execution_count": 8,
   "id": "22949583",
   "metadata": {},
   "outputs": [
    {
     "name": "stdout",
     "output_type": "stream",
     "text": [
      "Student name ['AJITH', 'ELON MUSK', 'MANI', 'MUKESH AMBANI', 'VIJAY']\n"
     ]
    }
   ],
   "source": [
    "studentName = [name.upper() for name in stdName]\n",
    "stname = studentName.copy()\n",
    "print('Student name',studentName)"
   ]
  },
  {
   "cell_type": "code",
   "execution_count": 9,
   "id": "619599d2",
   "metadata": {},
   "outputs": [],
   "source": [
    "def findEncoding(images) :\n",
    "    imgEncodings = []\n",
    "    for img in images :\n",
    "        img = resize(img, 0.50)\n",
    "        img = cv2.cvtColor(img, cv2.COLOR_BGR2RGB)\n",
    "        encodeimg = face_recognition.face_encodings(img)[0]\n",
    "        imgEncodings.append(encodeimg)\n",
    "    return imgEncodings"
   ]
  },
  {
   "cell_type": "code",
   "execution_count": 10,
   "id": "9686c9b1",
   "metadata": {},
   "outputs": [],
   "source": [
    "EncodeList = findEncoding(stdImg)"
   ]
  },
  {
   "cell_type": "code",
   "execution_count": 11,
   "id": "ec39708a",
   "metadata": {},
   "outputs": [],
   "source": [
    "cap = cv2.VideoCapture(0)"
   ]
  },
  {
   "cell_type": "code",
   "execution_count": 12,
   "id": "98c92c70",
   "metadata": {},
   "outputs": [
    {
     "name": "stdout",
     "output_type": "stream",
     "text": [
      "Attendance Registered for MANI at 01:39:27 PM\n",
      "Attendance Registered for MUKESH AMBANI at 01:39:38 PM\n",
      "Attendance Registered for VIJAY at 01:40:15 PM\n",
      "Attendance Registered for AJITH at 01:40:54 PM\n",
      "Attendance Registered for ELON MUSK at 01:42:19 PM\n"
     ]
    }
   ],
   "source": [
    "while True :\n",
    "    success, frame = cap.read()\n",
    "    Smaller_frames = cv2.resize(frame, (0,0), None, 0.25, 0.25)\n",
    "\n",
    "    facesInFrame = face_recognition.face_locations(Smaller_frames)\n",
    "    encodeFacesInFrame = face_recognition.face_encodings(Smaller_frames, facesInFrame)\n",
    "\n",
    "    for encodeFace, faceloc in zip(encodeFacesInFrame, facesInFrame) :\n",
    "        matches = face_recognition.compare_faces(EncodeList, encodeFace)\n",
    "        facedis = face_recognition.face_distance(EncodeList, encodeFace)\n",
    "        matchIndex = np.argmin(facedis)\n",
    "\n",
    "        if matches[matchIndex] :\n",
    "            name = studentName[matchIndex].upper()\n",
    "            y1, x2, y2, x1 = faceloc\n",
    "            y1, x2, y2, x1 = y1*4, x2*4, y2*4, x1*4\n",
    "            cv2.rectangle(frame, (x1, y1), (x2, y2), (0, 255, 0), 3)\n",
    "            cv2.rectangle(frame, (x1, y2-25), (x2, y2), (0, 255, 0), cv2.FILLED)\n",
    "            cv2.putText(frame, name, (x1+6, y2-6), cv2.FONT_HERSHEY_COMPLEX, 1, (255, 255, 255), 2)\n",
    "            \n",
    "            attendance.append(name)\n",
    "            #print(\"nameList\",nameList)\n",
    "            if name in studentName:\n",
    "                #print(\"name\",name)\n",
    "                if name in stname:\n",
    "                    stname.remove(name)\n",
    "                    time_now = time.strftime(\"%I:%M:%S %p\")\n",
    "                    write.writerow([idd,name,time_now])\n",
    "                    print('Attendance Registered for',name, 'at',time_now)\n",
    "                    statment = str('Attendance registered for' + name)\n",
    "                    engine.say(statment)\n",
    "                    engine.runAndWait()\n",
    "                    idd += 1\n",
    "\n",
    "    cv2.imshow('Face Attendance System',frame)\n",
    "    k = cv2.waitKey(1)\n",
    "    if k == 27:         # Press esc to close the video\n",
    "        break\n",
    "    \n",
    "cap.release()\n",
    "cv2.destroyAllWindows()\n",
    "f.close()"
   ]
  },
  {
   "cell_type": "code",
   "execution_count": 13,
   "id": "18ac1e67",
   "metadata": {},
   "outputs": [],
   "source": [
    "# I have deleted my pic.So there won'be a name MANI when u run"
   ]
  },
  {
   "cell_type": "code",
   "execution_count": null,
   "id": "6eb890df",
   "metadata": {},
   "outputs": [],
   "source": []
  }
 ],
 "metadata": {
  "kernelspec": {
   "display_name": "Python 3 (ipykernel)",
   "language": "python",
   "name": "python3"
  },
  "language_info": {
   "codemirror_mode": {
    "name": "ipython",
    "version": 3
   },
   "file_extension": ".py",
   "mimetype": "text/x-python",
   "name": "python",
   "nbconvert_exporter": "python",
   "pygments_lexer": "ipython3",
   "version": "3.9.13"
  }
 },
 "nbformat": 4,
 "nbformat_minor": 5
}
